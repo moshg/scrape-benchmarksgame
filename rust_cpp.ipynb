{
 "cells": [
  {
   "cell_type": "code",
   "execution_count": 1,
   "metadata": {},
   "outputs": [],
   "source": [
    "from urllib.request import urlopen\n",
    "from bs4 import BeautifulSoup"
   ]
  },
  {
   "cell_type": "code",
   "execution_count": 2,
   "metadata": {},
   "outputs": [],
   "source": [
    "rust_gpp_url = 'https://benchmarksgame-team.pages.debian.net/benchmarksgame/fastest/rust-gpp.html'\n",
    "with urlopen(rust_gpp_url) as f:\n",
    "    # lxmlでないと閉じタグを省略しているbenchmarksgameのHTMLをパースできない\n",
    "    soup = BeautifulSoup(f, 'lxml')"
   ]
  },
  {
   "cell_type": "code",
   "execution_count": 3,
   "metadata": {},
   "outputs": [
    {
     "name": "stdout",
     "output_type": "stream",
     "text": [
      "{'Rust': {'secs': [1.69, 6.07, 3.32, 1.75, 10.42, 1.97, 1.51, 1.7, 2.13, 5.17], 'mem': [994656.0, 876.0, 199724.0, 3060.0, 876.0, 2220.0, 2036.0, 32308.0, 153508.0, 135372.0], 'gz': [1330.0, 1753.0, 721.0, 1366.0, 1016.0, 1126.0, 1906.0, 1332.0, 986.0, 1841.0], 'busy': [2.96, 6.18, 12.07, 1.83, 40.8, 7.88, 4.59, 6.69, 3.18, 15.76]}, 'C++': {'secs': [4.72, 7.7, 3.93, 1.89, 10.7, 1.98, 1.46, 1.51, 1.85, 3.89], 'mem': [500116.0, 1772.0, 113768.0, 4460.0, 1864.0, 2320.0, 2180.0, 25708.0, 203748.0, 156148.0], 'gz': [840.0, 1879.0, 809.0, 513.0, 980.0, 1044.0, 2711.0, 1791.0, 1315.0, 1631.0], 'busy': [4.76, 8.02, 12.78, 1.95, 42.31, 7.9, 4.39, 6.01, 4.44, 11.99]}}\n"
     ]
    }
   ],
   "source": [
    "table = {'Rust': {}, 'C++': {}}\n",
    "for key_values in table.values():\n",
    "    key_values['secs'] = []\n",
    "    key_values['mem'] = []\n",
    "    key_values['gz'] = []\n",
    "    key_values['busy'] = []\n",
    "\n",
    "# 問題はtbody毎に分かれている\n",
    "tbodies = soup.find_all('tbody')\n",
    "# 最後の表は処理系の情報なので取り除く\n",
    "tbodies = tbodies[:-1]\n",
    "for tbody in tbodies:\n",
    "    trs = tbody.find_all('tr')\n",
    "    # 3, 4番目のtr要素がそれぞれRust, C++のベンチマークである\n",
    "    for table_key_values, values in zip(table.values(), trs[2:4]):\n",
    "        # その中のtd要素の2-5番目がそれぞれsecs, mem, gz, busyである\n",
    "        for table_values, value in zip(table_key_values.values(), values.find_all('td')[1:5]):\n",
    "            # memの値にコンマが含まれているので取り除く\n",
    "            value = value.string.replace(',', '')\n",
    "            table_values.append(float(value))\n",
    "\n",
    "print(table)"
   ]
  },
  {
   "cell_type": "code",
   "execution_count": 4,
   "metadata": {},
   "outputs": [
    {
     "name": "stdout",
     "output_type": "stream",
     "text": [
      "C++ / Rust\n",
      "secs - mean: 1.10, median: 1.02\n",
      "mem  - mean: 1.09, median: 1.11\n",
      "gz   - mean: 0.95, median: 1.02\n",
      "busy - mean: 1.08, median: 1.05\n"
     ]
    }
   ],
   "source": [
    "print('C++ / Rust')\n",
    "\n",
    "for (key, rust_values), cpp_values in zip(table['Rust'].items(), table['C++'].values()):\n",
    "    n = len(rust_values)\n",
    "    # 中央値の計算のために収集する\n",
    "    ratios = []\n",
    "    mean = 1.0\n",
    "    for rust_value, cpp_value in zip(rust_values, cpp_values):\n",
    "        ratio = cpp_value / rust_value\n",
    "        ratios.append(ratio)\n",
    "        mean *= ratio\n",
    "    mean **= 1 / n\n",
    "    print(f'{key.ljust(4)} - mean: {mean:.2f}', end=', ')\n",
    "\n",
    "    ratios.sort()\n",
    "    if n % 2 == 1:\n",
    "        median = ratios[n // 2]\n",
    "    else:\n",
    "        # 中央値が2つある場合はそれらの相乗平均を取る\n",
    "        median = (ratios[n // 2 - 1] * ratios[n // 2]) ** (1 / 2)\n",
    "    print(f'median: {median:.2f}')"
   ]
  },
  {
   "cell_type": "code",
   "execution_count": null,
   "metadata": {},
   "outputs": [],
   "source": []
  }
 ],
 "metadata": {
  "kernelspec": {
   "display_name": "Python 3",
   "language": "python",
   "name": "python3"
  },
  "language_info": {
   "codemirror_mode": {
    "name": "ipython",
    "version": 3
   },
   "file_extension": ".py",
   "mimetype": "text/x-python",
   "name": "python",
   "nbconvert_exporter": "python",
   "pygments_lexer": "ipython3",
   "version": "3.8.1"
  }
 },
 "nbformat": 4,
 "nbformat_minor": 4
}
