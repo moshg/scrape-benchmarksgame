{
 "cells": [
  {
   "cell_type": "code",
   "execution_count": null,
   "metadata": {},
   "outputs": [],
   "source": [
    "from urllib.request import urlopen\n",
    "from bs4 import BeautifulSoup"
   ]
  },
  {
   "cell_type": "code",
   "execution_count": null,
   "metadata": {},
   "outputs": [],
   "source": [
    "rust_gpp_url = 'https://benchmarksgame-team.pages.debian.net/benchmarksgame/fastest/rust-gpp.html'\n",
    "with urlopen(rust_gpp_url) as f:\n",
    "    # lxmlでないと閉じタグを省略しているbenchmarksgameのHTMLをパースできない\n",
    "    soup = BeautifulSoup(f, 'lxml')"
   ]
  },
  {
   "cell_type": "code",
   "execution_count": null,
   "metadata": {},
   "outputs": [],
   "source": [
    "tbodies = soup.find_all('tbody')\n",
    "# 最後のテーブルは処理系の情報なので取り除く\n",
    "tbodies = tbodies[:-1]\n",
    "\n",
    "secs_table = {'Rust': [], 'C++': []}\n",
    "for tbody in tbodies:\n",
    "    trs = tbody.find_all('tr')\n",
    "    # 3, 4番目のtr要素がそれぞれRust, C++のベンチマークである\n",
    "    rust, cpp = trs[2], trs[3]\n",
    "    # その中のtd要素の2-5番目がそれぞれsecs, mem, gz, busyである\n",
    "    secs = rust.find_all('td')[1].string\n",
    "    secs_table['Rust'].append(float(secs))\n",
    "    secs = cpp.find_all('td')[1].string\n",
    "    secs_table['C++'].append(float(secs))\n",
    "\n",
    "print(secs_table)"
   ]
  },
  {
   "cell_type": "code",
   "execution_count": null,
   "metadata": {},
   "outputs": [],
   "source": [
    "# オーバーフローしないようにn乗根をかけ算より先にする\n",
    "rust_secs = secs_table['Rust']\n",
    "n = len(rust_secs)\n",
    "rust_mean_secs = 1.0\n",
    "for secs in rust_secs:\n",
    "    rust_mean_secs *= secs ** (1 / n)\n",
    "\n",
    "cpp_secs = secs_table['C++']\n",
    "cpp_mean_secs = 1.0\n",
    "for secs in cpp_secs:\n",
    "    cpp_mean_secs *= secs ** (1 / n)\n",
    "\n",
    "print(f'Rustの相乗平均: {rust_mean_secs}')\n",
    "print(f'C++の相乗平均: {cpp_mean_secs}')\n",
    "print(f'Rust / C++: {rust_mean_secs / cpp_mean_secs}')"
   ]
  }
 ],
 "metadata": {
  "kernelspec": {
   "display_name": "Python 3",
   "language": "python",
   "name": "python3"
  },
  "language_info": {
   "codemirror_mode": {
    "name": "ipython",
    "version": 3
   },
   "file_extension": ".py",
   "mimetype": "text/x-python",
   "name": "python",
   "nbconvert_exporter": "python",
   "pygments_lexer": "ipython3",
   "version": "3.8.1"
  }
 },
 "nbformat": 4,
 "nbformat_minor": 4
}
